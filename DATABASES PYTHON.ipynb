{
 "cells": [
  {
   "cell_type": "code",
   "execution_count": 1,
   "id": "42674f0b",
   "metadata": {},
   "outputs": [
    {
     "name": "stdout",
     "output_type": "stream",
     "text": [
      "<mysql.connector.connection_cext.CMySQLConnection object at 0x0000026ECDEAE760>\n"
     ]
    }
   ],
   "source": [
    "#koneksi\n",
    "import mysql.connector\n",
    "\n",
    "#conec dari server\n",
    "conn = mysql.connector.connect(host = \"localhost\", user = \"root\", password = \"\")\n",
    "\n",
    "print(conn)\n",
    "\n",
    "#disconec dr server\n",
    "conn.close()"
   ]
  },
  {
   "cell_type": "code",
   "execution_count": 2,
   "id": "9254fd95",
   "metadata": {},
   "outputs": [],
   "source": [
    "#create database\n",
    "import mysql.connector\n",
    "\n",
    "dataBase=mysql.connector.connect(host = \"localhost\", user = \"root\", password = \"\")\n",
    "\n",
    "#prepar obj\n",
    "cursorObj=dataBase.cursor()\n",
    "\n",
    "#create db\n",
    "cursorObj.execute(\"CREATE DATABASE D3_TI_2023\")"
   ]
  },
  {
   "cell_type": "code",
   "execution_count": 4,
   "id": "f6915952",
   "metadata": {},
   "outputs": [],
   "source": [
    "#Tabel mahasiswa\n",
    "import mysql.connector\n",
    "\n",
    "dataBase = mysql.connector.connect(host = \"localhost\", user = \"root\", password = \"\", database=\"D3_TI_2023\")\n",
    "\n",
    "#preparing a cursor object\n",
    "cursorObj = dataBase.cursor()\n",
    "\n",
    "#create table\n",
    "mhsRecord = \"\"\"CREATE TABLE tabel_mahasiswa(NIM VARCHAR(10)NOT NULL PRIMARY KEY, NAMA VARCHAR(30) NOT NULL, \n",
    "                ALAMAT VARCHAR(255), MATKUL_YANG_DIIKUTI VARCHAR(10) NOT NULL, PRODI VARCHAR(30) NOT NULL)\"\"\"\n",
    "\n",
    "#table create\n",
    "cursorObj.execute(mhsRecord)\n",
    "\n",
    "#disconec\n",
    "dataBase.close()"
   ]
  },
  {
   "cell_type": "code",
   "execution_count": 5,
   "id": "0917f934",
   "metadata": {},
   "outputs": [],
   "source": [
    "#Tabel dosen\n",
    "import mysql.connector\n",
    "\n",
    "dataBase = mysql.connector.connect(host = \"localhost\", user = \"root\", password = \"\", database=\"D3_TI_2023\")\n",
    "\n",
    "#preparing a cursor object\n",
    "cursorObj = dataBase.cursor()\n",
    "\n",
    "#create table\n",
    "dosenRecord = \"\"\"CREATE TABLE tabel_dosen(NIP VARCHAR(20)NOT NULL PRIMARY KEY, NAMA VARCHAR(50) NOT NULL, \n",
    "                MATKUL_YG_DIAJAR VARCHAR(50) NOT NULL, GELAR_AKADEMIK VARCHAR(10))\"\"\"\n",
    "\n",
    "#table create\n",
    "cursorObj.execute(dosenRecord)\n",
    "\n",
    "#disconec\n",
    "dataBase.close()"
   ]
  },
  {
   "cell_type": "code",
   "execution_count": 6,
   "id": "9a057528",
   "metadata": {},
   "outputs": [],
   "source": [
    "#Tabel mata kuliah\n",
    "import mysql.connector\n",
    "\n",
    "dataBase = mysql.connector.connect(host = \"localhost\", user = \"root\", password = \"\", database=\"D3_TI_2023\")\n",
    "\n",
    "#preparing a cursor object\n",
    "cursorObj = dataBase.cursor()\n",
    "\n",
    "#create table\n",
    "mkRecord = \"\"\"CREATE TABLE tabel_matkul(kode_MK VARCHAR(10)NOT NULL PRIMARY KEY, nama_MK VARCHAR(50) NOT NULL, \n",
    "                WAKTU DATE, RUANG VARCHAR(10), SEMESTER VARCHAR(10))\"\"\"\n",
    "\n",
    "#table create\n",
    "cursorObj.execute(mkRecord)\n",
    "\n",
    "#disconec\n",
    "dataBase.close()"
   ]
  },
  {
   "cell_type": "code",
   "execution_count": 9,
   "id": "7772ce98",
   "metadata": {},
   "outputs": [],
   "source": [
    "#insert data mahasiswa\n",
    "import mysql.connector\n",
    "\n",
    "dataBase = mysql.connector.connect(host = 'localhost', user = \"root\", password = \"\", database=\"D3_TI_2023\")\n",
    "\n",
    "cursorObj=dataBase.cursor()\n",
    "\n",
    "sql=\"INSERT INTO tabel_mahasiswa(NIM, NAMA, ALAMAT, MATKUL_YANG_DIIKUTI, PRODI) VALUES(%s,%s,%s,%s,%s)\"\n",
    "val =[(\"V392222\",\"Dharma\",\"Jl. Hayam Wuruk No.06\",\"Python\",\"TI\"),\n",
    "       (\"V392233\",\"Nanda\",\"Jl. Hasanudin No.12\",\"Basis Data\",\"TI\"),\n",
    "       (\"V392244\",\"Akseyna\",\"Jl. Kusuma No.22\",\"Kewirausahaan\",\"TI\"),\n",
    "       (\"V392255\",\"Kembang\",\"Jl. Pantura No.16\",\"OOP\",\"TI\"),\n",
    "       (\"V392266\",\"Amalya\",\"Jl. Pondok Genggong No.07\",\"Statistika\",\"TI\")]\n",
    "\n",
    "cursorObj.executemany(sql, val)\n",
    "dataBase.commit()\n",
    "\n",
    "dataBase.close()"
   ]
  },
  {
   "cell_type": "code",
   "execution_count": 14,
   "id": "c1e3eb39",
   "metadata": {},
   "outputs": [],
   "source": [
    "#insert data dosen\n",
    "import mysql.connector\n",
    "\n",
    "dataBase = mysql.connector.connect(host = 'localhost', user = \"root\", password = \"\", database=\"D3_TI_2023\")\n",
    "\n",
    "cursorObj=dataBase.cursor()\n",
    "\n",
    "sql=\"INSERT INTO tabel_dosen(NIP, NAMA, MATKUL_YG_DIAJAR, GELAR_AKADEMIK) VALUES(%s,%s,%s,%s)\"\n",
    "val=[(\"112909\",\"Anggraini S.\",\"Python\",\"S.Kom, M.Kom\"),\n",
    "       (\"112912\",\"Haryono M.\",\"Basis Data\",\"S.ST, M.T\"),\n",
    "       (\"112907\",\"Ginayanti A.\",\"Kewirausahaan\",\"S.Kom, M.Kom\"),\n",
    "       (\"1129001\",\"Hakim R.\",\"OOP\",\"S.ST, M.T\"),\n",
    "       (\"112913\",\"Galuh P.\",\"Statistika\",\"S.ST, M.T\")]\n",
    "\n",
    "cursorObj.executemany(sql, val)\n",
    "dataBase.commit()\n",
    "\n",
    "dataBase.close()"
   ]
  },
  {
   "cell_type": "code",
   "execution_count": 17,
   "id": "0bdc6342",
   "metadata": {},
   "outputs": [],
   "source": [
    "#insert data matkul\n",
    "import mysql.connector\n",
    "\n",
    "\n",
    "dataBase = mysql.connector.connect(host = 'localhost', user = \"root\", password = \"\", database=\"D3_TI_2023\")\n",
    "\n",
    "cursorObj=dataBase.cursor()\n",
    "\n",
    "\n",
    "sql=\"INSERT INTO tabel_matkul(kode_MK, nama_MK, WAKTU, RUANG, SEMESTER) VALUES(%s,%s,%s,%s,%s)\"\n",
    "val=[(\"1501\",\"Statistika\",\"2022-2-3\",\"Mikro\",\"Genap\"),\n",
    "       (\"1502\",\"OOP\",\"2022-3-15\",\"L2R2\",\"Genap\"),\n",
    "       (\"1503\",\"Kewirausahaan\",\"2022-3-12\",\"Mikrokontroler\",\"Genap\"),\n",
    "       (\"1504\",\"Basis Data\",\"2022-3-6\",\"L2R1\",\"Genap\"),\n",
    "       (\"1505\",\"Python\",\"2022-3-7\",\"L1R1 \",\"Genap\")]\n",
    "\n",
    "cursorObj.executemany(sql, val)\n",
    "dataBase.commit()\n",
    "\n",
    "dataBase.close()"
   ]
  },
  {
   "cell_type": "code",
   "execution_count": 19,
   "id": "45df2457",
   "metadata": {},
   "outputs": [
    {
     "name": "stdout",
     "output_type": "stream",
     "text": [
      "('Dharma', 'Python')\n",
      "('Nanda', 'Basis Data')\n",
      "('Akseyna', 'Kewirausah')\n",
      "('Kembang', 'OOP')\n",
      "('Amalya', 'Statistika')\n"
     ]
    }
   ],
   "source": [
    "#menampilkan data\n",
    "import mysql.connector\n",
    "\n",
    "dataBase = mysql.connector.connect(host = 'localhost', user = \"root\", password = \"\", database=\"D3_TI_2023\") #membuka database\n",
    "\n",
    "#preparing a cursor object\n",
    "cursorObj = dataBase.cursor()\n",
    "\n",
    "sql = \"SELECT NAMA, MATKUL_YANG_DIIKUTI FROM tabel_mahasiswa\"\n",
    "\n",
    "cursorObj.execute (sql)\n",
    "\n",
    "myresult = cursorObj.fetchall()\n",
    "\n",
    "for x in myresult:\n",
    "    print(x)\n",
    "    \n",
    "dataBase.close()"
   ]
  },
  {
   "cell_type": "code",
   "execution_count": null,
   "id": "839d25ff",
   "metadata": {},
   "outputs": [],
   "source": []
  }
 ],
 "metadata": {
  "kernelspec": {
   "display_name": "Python 3 (ipykernel)",
   "language": "python",
   "name": "python3"
  },
  "language_info": {
   "codemirror_mode": {
    "name": "ipython",
    "version": 3
   },
   "file_extension": ".py",
   "mimetype": "text/x-python",
   "name": "python",
   "nbconvert_exporter": "python",
   "pygments_lexer": "ipython3",
   "version": "3.9.12"
  }
 },
 "nbformat": 4,
 "nbformat_minor": 5
}
